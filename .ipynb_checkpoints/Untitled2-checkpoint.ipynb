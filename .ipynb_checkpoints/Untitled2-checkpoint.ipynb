{
 "cells": [
  {
   "cell_type": "code",
   "execution_count": 1,
   "id": "787b5a1a-09a2-411e-8ed9-7bf930492221",
   "metadata": {},
   "outputs": [],
   "source": [
    "import cv2\n",
    "from facenet_pytorch import MTCNN, InceptionResnetV1\n",
    "from PIL import Image\n",
    "import numpy as np"
   ]
  },
  {
   "cell_type": "code",
   "execution_count": 2,
   "id": "385c6e12-dc18-42b9-ab8d-808c7e39601a",
   "metadata": {},
   "outputs": [],
   "source": [
    "# Initialize the face detection and recognition models\n",
    "mtcnn = MTCNN()\n",
    "resnet = InceptionResnetV1(pretrained='vggface2').eval()"
   ]
  },
  {
   "cell_type": "code",
   "execution_count": 3,
   "id": "0215d2b5-037d-4c61-9ecf-c6aede6efcd2",
   "metadata": {},
   "outputs": [],
   "source": [
    "# Load the image of the person you want to recognize\n",
    "image = Image.open(\"virat.jpg\")\n",
    "face, prob = mtcnn(image, return_prob=True)"
   ]
  },
  {
   "cell_type": "code",
   "execution_count": 4,
   "id": "1ebdec5f-39f6-4ecb-a6b5-4347b466bf1d",
   "metadata": {},
   "outputs": [],
   "source": [
    "# Compute the face embedding\n",
    "face_encoding = resnet(face.unsqueeze(0)).detach().numpy()"
   ]
  },
  {
   "cell_type": "code",
   "execution_count": 5,
   "id": "d9b9cc3a-911b-408d-98df-cd58fcd6859a",
   "metadata": {},
   "outputs": [],
   "source": [
    "# Load the image you want to detect and recognize faces in\n",
    "test_image = Image.open(\"test1_image.jpg\")"
   ]
  },
  {
   "cell_type": "code",
   "execution_count": 6,
   "id": "55823993-f470-4d61-a1a7-5b5f82ffa64d",
   "metadata": {},
   "outputs": [],
   "source": [
    "# Convert the test image to a numpy array\n",
    "test_image_array = np.array(test_image)"
   ]
  },
  {
   "cell_type": "code",
   "execution_count": 9,
   "id": "ff79afd9-8b20-4b05-9573-c9df751df7a8",
   "metadata": {},
   "outputs": [],
   "source": [
    "# Detect faces in the test image\n",
    "boxes, _ = mtcnn.detect(test_image)"
   ]
  },
  {
   "cell_type": "code",
   "execution_count": 10,
   "id": "3a460354-b933-40f5-a2be-dadfe85ffaff",
   "metadata": {},
   "outputs": [
    {
     "ename": "TypeError",
     "evalue": "'JpegImageFile' object is not subscriptable",
     "output_type": "error",
     "traceback": [
      "\u001b[0;31m---------------------------------------------------------------------------\u001b[0m",
      "\u001b[0;31mTypeError\u001b[0m                                 Traceback (most recent call last)",
      "Cell \u001b[0;32mIn[10], line 4\u001b[0m\n\u001b[1;32m      2\u001b[0m face_embeddings \u001b[38;5;241m=\u001b[39m []\n\u001b[1;32m      3\u001b[0m \u001b[38;5;28;01mfor\u001b[39;00m box \u001b[38;5;129;01min\u001b[39;00m boxes:\n\u001b[0;32m----> 4\u001b[0m     face \u001b[38;5;241m=\u001b[39m \u001b[43mtest_image\u001b[49m\u001b[43m[\u001b[49m\u001b[38;5;28;43mint\u001b[39;49m\u001b[43m(\u001b[49m\u001b[43mbox\u001b[49m\u001b[43m[\u001b[49m\u001b[38;5;241;43m1\u001b[39;49m\u001b[43m]\u001b[49m\u001b[43m)\u001b[49m\u001b[43m:\u001b[49m\u001b[38;5;28;43mint\u001b[39;49m\u001b[43m(\u001b[49m\u001b[43mbox\u001b[49m\u001b[43m[\u001b[49m\u001b[38;5;241;43m3\u001b[39;49m\u001b[43m]\u001b[49m\u001b[43m)\u001b[49m\u001b[43m,\u001b[49m\u001b[43m \u001b[49m\u001b[38;5;28;43mint\u001b[39;49m\u001b[43m(\u001b[49m\u001b[43mbox\u001b[49m\u001b[43m[\u001b[49m\u001b[38;5;241;43m0\u001b[39;49m\u001b[43m]\u001b[49m\u001b[43m)\u001b[49m\u001b[43m:\u001b[49m\u001b[38;5;28;43mint\u001b[39;49m\u001b[43m(\u001b[49m\u001b[43mbox\u001b[49m\u001b[43m[\u001b[49m\u001b[38;5;241;43m2\u001b[39;49m\u001b[43m]\u001b[49m\u001b[43m)\u001b[49m\u001b[43m]\u001b[49m\n\u001b[1;32m      5\u001b[0m     face \u001b[38;5;241m=\u001b[39m Image\u001b[38;5;241m.\u001b[39mfromarray(face)\n\u001b[1;32m      6\u001b[0m     face, _ \u001b[38;5;241m=\u001b[39m mtcnn(face, return_prob\u001b[38;5;241m=\u001b[39m\u001b[38;5;28;01mTrue\u001b[39;00m)\n",
      "\u001b[0;31mTypeError\u001b[0m: 'JpegImageFile' object is not subscriptable"
     ]
    }
   ],
   "source": [
    "# Compute the face embeddings for the detected faces\n",
    "face_embeddings = []\n",
    "for box in boxes:\n",
    "    face = test_image[int(box[1]):int(box[3]), int(box[0]):int(box[2])]\n",
    "    face = Image.fromarray(face)\n",
    "    face, _ = mtcnn(face, return_prob=True)\n",
    "    face_embedding = resnet(face.unsqueeze(0)).detach().numpy()\n",
    "    face_embeddings.append(face_embedding)\n",
    "    "
   ]
  },
  {
   "cell_type": "code",
   "execution_count": null,
   "id": "1b7686fa-ce88-4ac0-9e38-f9ecdde8ffbc",
   "metadata": {},
   "outputs": [],
   "source": [
    "# Compare the face embeddings to the known face\n",
    "for face_embedding in face_embeddings:\n",
    "    distance = np.linalg.norm(face_embedding - face_encoding)\n",
    "    if distance < 0.8:\n",
    "        print(\"Found a match!\")\n",
    "        # Do something with the match, like unlock a door or log the user in"
   ]
  }
 ],
 "metadata": {
  "kernelspec": {
   "display_name": "Python 3 (ipykernel)",
   "language": "python",
   "name": "python3"
  },
  "language_info": {
   "codemirror_mode": {
    "name": "ipython",
    "version": 3
   },
   "file_extension": ".py",
   "mimetype": "text/x-python",
   "name": "python",
   "nbconvert_exporter": "python",
   "pygments_lexer": "ipython3",
   "version": "3.10.12"
  }
 },
 "nbformat": 4,
 "nbformat_minor": 5
}
