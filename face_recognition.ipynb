{
 "cells": [
  {
   "cell_type": "code",
   "execution_count": 4,
   "id": "ab001e3f-52e3-417e-b7a7-7629ac78cc56",
   "metadata": {},
   "outputs": [],
   "source": [
    "import cv2\n",
    "from facenet_pytorch import MTCNN, InceptionResnetV1\n",
    "from PIL import Image\n",
    "import numpy as np"
   ]
  },
  {
   "cell_type": "code",
   "execution_count": 5,
   "id": "8aa60cd7-c1be-4fbf-b944-c50f20b02b83",
   "metadata": {},
   "outputs": [],
   "source": [
    "mtcnn = MTCNN()\n",
    "resnet = InceptionResnetV1(pretrained='vggface2').eval()"
   ]
  },
  {
   "cell_type": "code",
   "execution_count": 7,
   "id": "04c440b2-066d-47ab-817a-3d460847fa3d",
   "metadata": {},
   "outputs": [],
   "source": [
    "person1 = Image.open(\"virat.jpg\")\n",
    "person2 = Image.open(\"ms_dhoni.jpg\")\n",
    "person3 = Image.open(\"sachin.jpg\")"
   ]
  },
  {
   "cell_type": "code",
   "execution_count": 8,
   "id": "c15ae902-84f3-46f6-9658-8792bf9db953",
   "metadata": {},
   "outputs": [],
   "source": [
    "p1, prob = mtcnn(person1, return_prob=True)\n",
    "p1_encoding = resnet(p1.unsqueeze(0)).detach().numpy()"
   ]
  },
  {
   "cell_type": "code",
   "execution_count": 9,
   "id": "12b64fb7-b181-4c02-bc47-a5009d8ae489",
   "metadata": {},
   "outputs": [],
   "source": [
    "p2, prob = mtcnn(person2, return_prob=True)\n",
    "p2_encoding = resnet(p2.unsqueeze(0)).detach().numpy()"
   ]
  },
  {
   "cell_type": "code",
   "execution_count": 10,
   "id": "79083c80-3afc-4e23-8fca-93188754fde3",
   "metadata": {},
   "outputs": [],
   "source": [
    "p3, prob = mtcnn(person3, return_prob=True)\n",
    "p3_encoding = resnet(p3.unsqueeze(0)).detach().numpy()"
   ]
  },
  {
   "cell_type": "code",
   "execution_count": 11,
   "id": "b008d876-8c32-41e3-84be-62c5ae4bd067",
   "metadata": {},
   "outputs": [],
   "source": [
    "test_image = Image.open(\"test3_image.jpg\")"
   ]
  },
  {
   "cell_type": "code",
   "execution_count": 12,
   "id": "3c8233a2-a039-41f3-a4c5-cea274c145c4",
   "metadata": {},
   "outputs": [],
   "source": [
    "test_image_array = np.array(test_image)"
   ]
  },
  {
   "cell_type": "code",
   "execution_count": 13,
   "id": "04dcf9fb-a548-422b-852a-00858ac960ef",
   "metadata": {},
   "outputs": [],
   "source": [
    "boxes, _ = mtcnn.detect(test_image_array)"
   ]
  },
  {
   "cell_type": "code",
   "execution_count": 14,
   "id": "76e4835c-a5d8-41cb-8b8f-c6c8e813fdf7",
   "metadata": {},
   "outputs": [],
   "source": [
    "face_embeddings = []\n",
    "for box in boxes:\n",
    "    face = test_image_array[int(box[1]):int(box[3]), int(box[0]):int(box[2])]\n",
    "    face = Image.fromarray(face)\n",
    "    face, _ = mtcnn(face, return_prob=True)\n",
    "    face_embedding = resnet(face.unsqueeze(0)).detach().numpy()\n",
    "    face_embeddings.append(face_embedding)"
   ]
  },
  {
   "cell_type": "code",
   "execution_count": 16,
   "id": "f5a33924-6c30-4549-bd3d-3ece3ad94886",
   "metadata": {},
   "outputs": [
    {
     "name": "stdout",
     "output_type": "stream",
     "text": [
      "Found a match with Virat Kohli!\n"
     ]
    }
   ],
   "source": [
    "for face_embedding in face_embeddings:\n",
    "    distance_to_person1 = np.linalg.norm(face_embedding - p1_encoding)\n",
    "    distance_to_person2 = np.linalg.norm(face_embedding - p2_encoding)\n",
    "    distance_to_person3 = np.linalg.norm(face_embedding - p3_encoding)\n",
    "\n",
    "    if distance_to_person1 < 0.8:\n",
    "        print(\"Found a match with Virat Kohli!\")\n",
    "        \n",
    "    elif distance_to_person2 < 0.8:\n",
    "        print(\"Found a match with M S Dhoni!\")\n",
    "        \n",
    "    elif distance_to_person3 < 0.8:\n",
    "        print(\"Found a match with Sachin!\")\n",
    "        \n",
    "    else:\n",
    "        print(\"No match found.\")"
   ]
  },
  {
   "cell_type": "code",
   "execution_count": null,
   "id": "024c2537-2df1-40b5-8b99-eae15b07126a",
   "metadata": {},
   "outputs": [],
   "source": []
  }
 ],
 "metadata": {
  "kernelspec": {
   "display_name": "Python 3 (ipykernel)",
   "language": "python",
   "name": "python3"
  },
  "language_info": {
   "codemirror_mode": {
    "name": "ipython",
    "version": 3
   },
   "file_extension": ".py",
   "mimetype": "text/x-python",
   "name": "python",
   "nbconvert_exporter": "python",
   "pygments_lexer": "ipython3",
   "version": "3.10.12"
  }
 },
 "nbformat": 4,
 "nbformat_minor": 5
}
